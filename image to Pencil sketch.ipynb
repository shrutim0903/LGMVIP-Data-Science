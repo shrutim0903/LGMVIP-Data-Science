Shruti Mandale - Data Science Intern at LetsGrowMore Virtual Internship Program (January 2023)

Beginner Level Task 4 - Image to Pencil Sketch with Python

Import the required libraries

import cv2
from matplotlib import pyplot as plt
​
Read the image

image = cv2.imread('tiger.jpg')
Convert to gray scale

gray_image = cv2.cvtColor(image, cv2.COLOR_BGR2GRAY)
Invert the grayscale image

inverted_image = 255 - gray_image
Blur image using Gaussian Blur Function

blurred = cv2.GaussianBlur(inverted_image, (21, 21), 0)
Invert the blurred image

inverted_blurred = 255 - blurred
pencil_sketch = cv2.divide(gray_image, inverted_blurred, scale=256.0)
Original image

plt.figure(figsize=(25,10))
plt.imshow(cv2.cvtColor(image,cv2.COLOR_BGR2RGB),cmap='gray')
plt.show()

Pencil sketch of the image

plt.figure(figsize=(25,10))
plt.imshow(pencil_sketch,cmap='gray')
plt.show()
